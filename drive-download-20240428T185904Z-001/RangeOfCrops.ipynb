{
 "cells": [
  {
   "cell_type": "code",
   "execution_count": 15,
   "id": "d0a54b96",
   "metadata": {},
   "outputs": [],
   "source": [
    "import pandas as pd"
   ]
  },
  {
   "cell_type": "code",
   "execution_count": 31,
   "id": "efb7e83e",
   "metadata": {},
   "outputs": [],
   "source": [
    "are=pd.read_csv(\"C:\\\\Users\\\\Raksh\\\\OneDrive\\\\Documents\\\\RVU\\\\RUDRA\\\\Arecanut.csv\")\n"
   ]
  },
  {
   "cell_type": "code",
   "execution_count": 32,
   "id": "a3f58a80",
   "metadata": {
    "scrolled": true
   },
   "outputs": [
    {
     "data": {
      "text/html": [
       "<div>\n",
       "<style scoped>\n",
       "    .dataframe tbody tr th:only-of-type {\n",
       "        vertical-align: middle;\n",
       "    }\n",
       "\n",
       "    .dataframe tbody tr th {\n",
       "        vertical-align: top;\n",
       "    }\n",
       "\n",
       "    .dataframe thead th {\n",
       "        text-align: right;\n",
       "    }\n",
       "</style>\n",
       "<table border=\"1\" class=\"dataframe\">\n",
       "  <thead>\n",
       "    <tr style=\"text-align: right;\">\n",
       "      <th></th>\n",
       "      <th>State</th>\n",
       "      <th>District</th>\n",
       "      <th>Crop</th>\n",
       "      <th>Year</th>\n",
       "      <th>Season</th>\n",
       "      <th>Area</th>\n",
       "      <th>Area Units</th>\n",
       "      <th>Production</th>\n",
       "      <th>Production Units</th>\n",
       "      <th>Yield</th>\n",
       "    </tr>\n",
       "  </thead>\n",
       "  <tbody>\n",
       "    <tr>\n",
       "      <th>0</th>\n",
       "      <td>Andaman and Nicobar Islands</td>\n",
       "      <td>NICOBARS</td>\n",
       "      <td>Arecanut</td>\n",
       "      <td>2001-02</td>\n",
       "      <td>Kharif</td>\n",
       "      <td>1254.0</td>\n",
       "      <td>Hectare</td>\n",
       "      <td>2061.0</td>\n",
       "      <td>Tonnes</td>\n",
       "      <td>1.643541</td>\n",
       "    </tr>\n",
       "    <tr>\n",
       "      <th>1</th>\n",
       "      <td>Andaman and Nicobar Islands</td>\n",
       "      <td>NICOBARS</td>\n",
       "      <td>Arecanut</td>\n",
       "      <td>2002-03</td>\n",
       "      <td>Whole Year</td>\n",
       "      <td>1258.0</td>\n",
       "      <td>Hectare</td>\n",
       "      <td>2083.0</td>\n",
       "      <td>Tonnes</td>\n",
       "      <td>1.655803</td>\n",
       "    </tr>\n",
       "    <tr>\n",
       "      <th>2</th>\n",
       "      <td>Andaman and Nicobar Islands</td>\n",
       "      <td>NICOBARS</td>\n",
       "      <td>Arecanut</td>\n",
       "      <td>2003-04</td>\n",
       "      <td>Whole Year</td>\n",
       "      <td>1261.0</td>\n",
       "      <td>Hectare</td>\n",
       "      <td>1525.0</td>\n",
       "      <td>Tonnes</td>\n",
       "      <td>1.209358</td>\n",
       "    </tr>\n",
       "    <tr>\n",
       "      <th>3</th>\n",
       "      <td>Andaman and Nicobar Islands</td>\n",
       "      <td>NORTH AND MIDDLE ANDAMAN</td>\n",
       "      <td>Arecanut</td>\n",
       "      <td>2001-02</td>\n",
       "      <td>Kharif</td>\n",
       "      <td>3100.0</td>\n",
       "      <td>Hectare</td>\n",
       "      <td>5239.0</td>\n",
       "      <td>Tonnes</td>\n",
       "      <td>1.690000</td>\n",
       "    </tr>\n",
       "    <tr>\n",
       "      <th>4</th>\n",
       "      <td>Andaman and Nicobar Islands</td>\n",
       "      <td>SOUTH ANDAMANS</td>\n",
       "      <td>Arecanut</td>\n",
       "      <td>2002-03</td>\n",
       "      <td>Whole Year</td>\n",
       "      <td>3105.0</td>\n",
       "      <td>Hectare</td>\n",
       "      <td>5267.0</td>\n",
       "      <td>Tonnes</td>\n",
       "      <td>1.696296</td>\n",
       "    </tr>\n",
       "    <tr>\n",
       "      <th>...</th>\n",
       "      <td>...</td>\n",
       "      <td>...</td>\n",
       "      <td>...</td>\n",
       "      <td>...</td>\n",
       "      <td>...</td>\n",
       "      <td>...</td>\n",
       "      <td>...</td>\n",
       "      <td>...</td>\n",
       "      <td>...</td>\n",
       "      <td>...</td>\n",
       "    </tr>\n",
       "    <tr>\n",
       "      <th>2187</th>\n",
       "      <td>West Bengal</td>\n",
       "      <td>NADIA</td>\n",
       "      <td>Arecanut</td>\n",
       "      <td>2000-01</td>\n",
       "      <td>Whole Year</td>\n",
       "      <td>264.0</td>\n",
       "      <td>Hectare</td>\n",
       "      <td>264.0</td>\n",
       "      <td>Tonnes</td>\n",
       "      <td>1.000000</td>\n",
       "    </tr>\n",
       "    <tr>\n",
       "      <th>2188</th>\n",
       "      <td>West Bengal</td>\n",
       "      <td>PURBA BARDHAMAN</td>\n",
       "      <td>Arecanut</td>\n",
       "      <td>1997-98</td>\n",
       "      <td>Whole Year</td>\n",
       "      <td>102.0</td>\n",
       "      <td>Hectare</td>\n",
       "      <td>295.0</td>\n",
       "      <td>Tonnes</td>\n",
       "      <td>2.892157</td>\n",
       "    </tr>\n",
       "    <tr>\n",
       "      <th>2189</th>\n",
       "      <td>West Bengal</td>\n",
       "      <td>PURBA BARDHAMAN</td>\n",
       "      <td>Arecanut</td>\n",
       "      <td>1998-99</td>\n",
       "      <td>Whole Year</td>\n",
       "      <td>106.0</td>\n",
       "      <td>Hectare</td>\n",
       "      <td>313.0</td>\n",
       "      <td>Tonnes</td>\n",
       "      <td>2.952830</td>\n",
       "    </tr>\n",
       "    <tr>\n",
       "      <th>2190</th>\n",
       "      <td>West Bengal</td>\n",
       "      <td>PURBA BARDHAMAN</td>\n",
       "      <td>Arecanut</td>\n",
       "      <td>1999-00</td>\n",
       "      <td>Whole Year</td>\n",
       "      <td>108.0</td>\n",
       "      <td>Hectare</td>\n",
       "      <td>320.0</td>\n",
       "      <td>Tonnes</td>\n",
       "      <td>2.962963</td>\n",
       "    </tr>\n",
       "    <tr>\n",
       "      <th>2191</th>\n",
       "      <td>West Bengal</td>\n",
       "      <td>PURBA BARDHAMAN</td>\n",
       "      <td>Arecanut</td>\n",
       "      <td>2000-01</td>\n",
       "      <td>Whole Year</td>\n",
       "      <td>108.0</td>\n",
       "      <td>Hectare</td>\n",
       "      <td>313.0</td>\n",
       "      <td>Tonnes</td>\n",
       "      <td>2.898148</td>\n",
       "    </tr>\n",
       "  </tbody>\n",
       "</table>\n",
       "<p>2192 rows × 10 columns</p>\n",
       "</div>"
      ],
      "text/plain": [
       "                            State                  District      Crop  \\\n",
       "0     Andaman and Nicobar Islands                  NICOBARS  Arecanut   \n",
       "1     Andaman and Nicobar Islands                  NICOBARS  Arecanut   \n",
       "2     Andaman and Nicobar Islands                  NICOBARS  Arecanut   \n",
       "3     Andaman and Nicobar Islands  NORTH AND MIDDLE ANDAMAN  Arecanut   \n",
       "4     Andaman and Nicobar Islands            SOUTH ANDAMANS  Arecanut   \n",
       "...                           ...                       ...       ...   \n",
       "2187                  West Bengal                     NADIA  Arecanut   \n",
       "2188                  West Bengal           PURBA BARDHAMAN  Arecanut   \n",
       "2189                  West Bengal           PURBA BARDHAMAN  Arecanut   \n",
       "2190                  West Bengal           PURBA BARDHAMAN  Arecanut   \n",
       "2191                  West Bengal           PURBA BARDHAMAN  Arecanut   \n",
       "\n",
       "         Year      Season    Area Area Units  Production Production Units  \\\n",
       "0     2001-02      Kharif  1254.0    Hectare      2061.0           Tonnes   \n",
       "1     2002-03  Whole Year  1258.0    Hectare      2083.0           Tonnes   \n",
       "2     2003-04  Whole Year  1261.0    Hectare      1525.0           Tonnes   \n",
       "3     2001-02      Kharif  3100.0    Hectare      5239.0           Tonnes   \n",
       "4     2002-03  Whole Year  3105.0    Hectare      5267.0           Tonnes   \n",
       "...       ...         ...     ...        ...         ...              ...   \n",
       "2187  2000-01  Whole Year   264.0    Hectare       264.0           Tonnes   \n",
       "2188  1997-98  Whole Year   102.0    Hectare       295.0           Tonnes   \n",
       "2189  1998-99  Whole Year   106.0    Hectare       313.0           Tonnes   \n",
       "2190  1999-00  Whole Year   108.0    Hectare       320.0           Tonnes   \n",
       "2191  2000-01  Whole Year   108.0    Hectare       313.0           Tonnes   \n",
       "\n",
       "         Yield  \n",
       "0     1.643541  \n",
       "1     1.655803  \n",
       "2     1.209358  \n",
       "3     1.690000  \n",
       "4     1.696296  \n",
       "...        ...  \n",
       "2187  1.000000  \n",
       "2188  2.892157  \n",
       "2189  2.952830  \n",
       "2190  2.962963  \n",
       "2191  2.898148  \n",
       "\n",
       "[2192 rows x 10 columns]"
      ]
     },
     "execution_count": 32,
     "metadata": {},
     "output_type": "execute_result"
    }
   ],
   "source": [
    "are"
   ]
  },
  {
   "cell_type": "code",
   "execution_count": 33,
   "id": "6a1f5380",
   "metadata": {},
   "outputs": [],
   "source": [
    "max1=are[\"Yield\"].max()"
   ]
  },
  {
   "cell_type": "code",
   "execution_count": 34,
   "id": "a0093dfe",
   "metadata": {},
   "outputs": [
    {
     "data": {
      "text/plain": [
       "19.3"
      ]
     },
     "execution_count": 34,
     "metadata": {},
     "output_type": "execute_result"
    }
   ],
   "source": [
    "max1"
   ]
  },
  {
   "cell_type": "code",
   "execution_count": 35,
   "id": "2fe2626d",
   "metadata": {},
   "outputs": [],
   "source": [
    "min1=are[\"Yield\"].min()"
   ]
  },
  {
   "cell_type": "code",
   "execution_count": 36,
   "id": "9d92f380",
   "metadata": {},
   "outputs": [
    {
     "data": {
      "text/plain": [
       "0.0"
      ]
     },
     "execution_count": 36,
     "metadata": {},
     "output_type": "execute_result"
    }
   ],
   "source": [
    "min1"
   ]
  },
  {
   "cell_type": "code",
   "execution_count": 37,
   "id": "fa69ebfd",
   "metadata": {},
   "outputs": [],
   "source": [
    "range1=max1-min1"
   ]
  },
  {
   "cell_type": "code",
   "execution_count": 39,
   "id": "841bc6f7",
   "metadata": {},
   "outputs": [
    {
     "data": {
      "text/plain": [
       "19.3"
      ]
     },
     "execution_count": 39,
     "metadata": {},
     "output_type": "execute_result"
    }
   ],
   "source": [
    "range1"
   ]
  },
  {
   "cell_type": "code",
   "execution_count": 41,
   "id": "d9d84ff7",
   "metadata": {},
   "outputs": [],
   "source": [
    "ahar=pd.read_csv(\"C:\\\\Users\\Raksh\\OneDrive\\Documents\\RVU\\RUDRA\\AhrarTur.csv\")"
   ]
  },
  {
   "cell_type": "code",
   "execution_count": 42,
   "id": "36c0ade1",
   "metadata": {},
   "outputs": [
    {
     "data": {
      "text/html": [
       "<div>\n",
       "<style scoped>\n",
       "    .dataframe tbody tr th:only-of-type {\n",
       "        vertical-align: middle;\n",
       "    }\n",
       "\n",
       "    .dataframe tbody tr th {\n",
       "        vertical-align: top;\n",
       "    }\n",
       "\n",
       "    .dataframe thead th {\n",
       "        text-align: right;\n",
       "    }\n",
       "</style>\n",
       "<table border=\"1\" class=\"dataframe\">\n",
       "  <thead>\n",
       "    <tr style=\"text-align: right;\">\n",
       "      <th></th>\n",
       "      <th>State</th>\n",
       "      <th>District</th>\n",
       "      <th>Crop</th>\n",
       "      <th>Year</th>\n",
       "      <th>Season</th>\n",
       "      <th>Area</th>\n",
       "      <th>Area Units</th>\n",
       "      <th>Production</th>\n",
       "      <th>Production Units</th>\n",
       "      <th>Yield</th>\n",
       "    </tr>\n",
       "  </thead>\n",
       "  <tbody>\n",
       "    <tr>\n",
       "      <th>0</th>\n",
       "      <td>Andhra Pradesh</td>\n",
       "      <td>ADILABAD</td>\n",
       "      <td>Arhar/Tur</td>\n",
       "      <td>2001-02</td>\n",
       "      <td>Kharif</td>\n",
       "      <td>38438.0</td>\n",
       "      <td>Hectare</td>\n",
       "      <td>18027.0</td>\n",
       "      <td>Tonnes</td>\n",
       "      <td>0.468989</td>\n",
       "    </tr>\n",
       "    <tr>\n",
       "      <th>1</th>\n",
       "      <td>Andhra Pradesh</td>\n",
       "      <td>ADILABAD</td>\n",
       "      <td>Arhar/Tur</td>\n",
       "      <td>2001-02</td>\n",
       "      <td>Rabi</td>\n",
       "      <td>652.0</td>\n",
       "      <td>Hectare</td>\n",
       "      <td>306.0</td>\n",
       "      <td>Tonnes</td>\n",
       "      <td>0.469325</td>\n",
       "    </tr>\n",
       "    <tr>\n",
       "      <th>2</th>\n",
       "      <td>Andhra Pradesh</td>\n",
       "      <td>ADILABAD</td>\n",
       "      <td>Arhar/Tur</td>\n",
       "      <td>2002-03</td>\n",
       "      <td>Kharif</td>\n",
       "      <td>40771.0</td>\n",
       "      <td>Hectare</td>\n",
       "      <td>9989.0</td>\n",
       "      <td>Tonnes</td>\n",
       "      <td>0.245003</td>\n",
       "    </tr>\n",
       "    <tr>\n",
       "      <th>3</th>\n",
       "      <td>Andhra Pradesh</td>\n",
       "      <td>ADILABAD</td>\n",
       "      <td>Arhar/Tur</td>\n",
       "      <td>2002-03</td>\n",
       "      <td>Rabi</td>\n",
       "      <td>945.0</td>\n",
       "      <td>Hectare</td>\n",
       "      <td>232.0</td>\n",
       "      <td>Tonnes</td>\n",
       "      <td>0.245503</td>\n",
       "    </tr>\n",
       "    <tr>\n",
       "      <th>4</th>\n",
       "      <td>Andhra Pradesh</td>\n",
       "      <td>ADILABAD</td>\n",
       "      <td>Arhar/Tur</td>\n",
       "      <td>2003-04</td>\n",
       "      <td>Kharif</td>\n",
       "      <td>38393.0</td>\n",
       "      <td>Hectare</td>\n",
       "      <td>13284.0</td>\n",
       "      <td>Tonnes</td>\n",
       "      <td>0.346001</td>\n",
       "    </tr>\n",
       "    <tr>\n",
       "      <th>...</th>\n",
       "      <td>...</td>\n",
       "      <td>...</td>\n",
       "      <td>...</td>\n",
       "      <td>...</td>\n",
       "      <td>...</td>\n",
       "      <td>...</td>\n",
       "      <td>...</td>\n",
       "      <td>...</td>\n",
       "      <td>...</td>\n",
       "      <td>...</td>\n",
       "    </tr>\n",
       "    <tr>\n",
       "      <th>10890</th>\n",
       "      <td>West Bengal</td>\n",
       "      <td>PURBA BARDHAMAN</td>\n",
       "      <td>Arhar/Tur</td>\n",
       "      <td>2000-01</td>\n",
       "      <td>Kharif</td>\n",
       "      <td>628.0</td>\n",
       "      <td>Hectare</td>\n",
       "      <td>420.0</td>\n",
       "      <td>Tonnes</td>\n",
       "      <td>0.668790</td>\n",
       "    </tr>\n",
       "    <tr>\n",
       "      <th>10891</th>\n",
       "      <td>West Bengal</td>\n",
       "      <td>PURULIA</td>\n",
       "      <td>Arhar/Tur</td>\n",
       "      <td>1997-98</td>\n",
       "      <td>Whole Year</td>\n",
       "      <td>1510.0</td>\n",
       "      <td>Hectare</td>\n",
       "      <td>790.0</td>\n",
       "      <td>Tonnes</td>\n",
       "      <td>0.523179</td>\n",
       "    </tr>\n",
       "    <tr>\n",
       "      <th>10892</th>\n",
       "      <td>West Bengal</td>\n",
       "      <td>PURULIA</td>\n",
       "      <td>Arhar/Tur</td>\n",
       "      <td>1998-99</td>\n",
       "      <td>Kharif</td>\n",
       "      <td>756.0</td>\n",
       "      <td>Hectare</td>\n",
       "      <td>300.0</td>\n",
       "      <td>Tonnes</td>\n",
       "      <td>0.396825</td>\n",
       "    </tr>\n",
       "    <tr>\n",
       "      <th>10893</th>\n",
       "      <td>West Bengal</td>\n",
       "      <td>PURULIA</td>\n",
       "      <td>Arhar/Tur</td>\n",
       "      <td>1999-00</td>\n",
       "      <td>Kharif</td>\n",
       "      <td>1317.0</td>\n",
       "      <td>Hectare</td>\n",
       "      <td>648.0</td>\n",
       "      <td>Tonnes</td>\n",
       "      <td>0.492027</td>\n",
       "    </tr>\n",
       "    <tr>\n",
       "      <th>10894</th>\n",
       "      <td>West Bengal</td>\n",
       "      <td>PURULIA</td>\n",
       "      <td>Arhar/Tur</td>\n",
       "      <td>2000-01</td>\n",
       "      <td>Kharif</td>\n",
       "      <td>2071.0</td>\n",
       "      <td>Hectare</td>\n",
       "      <td>640.0</td>\n",
       "      <td>Tonnes</td>\n",
       "      <td>0.309029</td>\n",
       "    </tr>\n",
       "  </tbody>\n",
       "</table>\n",
       "<p>10895 rows × 10 columns</p>\n",
       "</div>"
      ],
      "text/plain": [
       "                State         District       Crop     Year      Season  \\\n",
       "0      Andhra Pradesh         ADILABAD  Arhar/Tur  2001-02      Kharif   \n",
       "1      Andhra Pradesh         ADILABAD  Arhar/Tur  2001-02        Rabi   \n",
       "2      Andhra Pradesh         ADILABAD  Arhar/Tur  2002-03      Kharif   \n",
       "3      Andhra Pradesh         ADILABAD  Arhar/Tur  2002-03        Rabi   \n",
       "4      Andhra Pradesh         ADILABAD  Arhar/Tur  2003-04      Kharif   \n",
       "...               ...              ...        ...      ...         ...   \n",
       "10890     West Bengal  PURBA BARDHAMAN  Arhar/Tur  2000-01      Kharif   \n",
       "10891     West Bengal          PURULIA  Arhar/Tur  1997-98  Whole Year   \n",
       "10892     West Bengal          PURULIA  Arhar/Tur  1998-99      Kharif   \n",
       "10893     West Bengal          PURULIA  Arhar/Tur  1999-00      Kharif   \n",
       "10894     West Bengal          PURULIA  Arhar/Tur  2000-01      Kharif   \n",
       "\n",
       "          Area Area Units  Production Production Units     Yield  \n",
       "0      38438.0    Hectare     18027.0           Tonnes  0.468989  \n",
       "1        652.0    Hectare       306.0           Tonnes  0.469325  \n",
       "2      40771.0    Hectare      9989.0           Tonnes  0.245003  \n",
       "3        945.0    Hectare       232.0           Tonnes  0.245503  \n",
       "4      38393.0    Hectare     13284.0           Tonnes  0.346001  \n",
       "...        ...        ...         ...              ...       ...  \n",
       "10890    628.0    Hectare       420.0           Tonnes  0.668790  \n",
       "10891   1510.0    Hectare       790.0           Tonnes  0.523179  \n",
       "10892    756.0    Hectare       300.0           Tonnes  0.396825  \n",
       "10893   1317.0    Hectare       648.0           Tonnes  0.492027  \n",
       "10894   2071.0    Hectare       640.0           Tonnes  0.309029  \n",
       "\n",
       "[10895 rows x 10 columns]"
      ]
     },
     "execution_count": 42,
     "metadata": {},
     "output_type": "execute_result"
    }
   ],
   "source": [
    "ahar"
   ]
  },
  {
   "cell_type": "code",
   "execution_count": 44,
   "id": "afe98386",
   "metadata": {},
   "outputs": [],
   "source": [
    "max2=ahar[\"Yield\"].max()"
   ]
  },
  {
   "cell_type": "code",
   "execution_count": 45,
   "id": "6cfb53cc",
   "metadata": {},
   "outputs": [
    {
     "data": {
      "text/plain": [
       "270.0"
      ]
     },
     "execution_count": 45,
     "metadata": {},
     "output_type": "execute_result"
    }
   ],
   "source": [
    "max2"
   ]
  },
  {
   "cell_type": "code",
   "execution_count": 47,
   "id": "df15d75c",
   "metadata": {},
   "outputs": [],
   "source": [
    "min2=ahar[\"Yield\"].min()"
   ]
  },
  {
   "cell_type": "code",
   "execution_count": 48,
   "id": "7b59cb1a",
   "metadata": {},
   "outputs": [
    {
     "data": {
      "text/plain": [
       "0.0"
      ]
     },
     "execution_count": 48,
     "metadata": {},
     "output_type": "execute_result"
    }
   ],
   "source": [
    "min2"
   ]
  },
  {
   "cell_type": "code",
   "execution_count": 49,
   "id": "dee69e76",
   "metadata": {},
   "outputs": [],
   "source": [
    "range2=max2-min2"
   ]
  },
  {
   "cell_type": "code",
   "execution_count": 50,
   "id": "afb16d1a",
   "metadata": {},
   "outputs": [
    {
     "data": {
      "text/plain": [
       "270.0"
      ]
     },
     "execution_count": 50,
     "metadata": {},
     "output_type": "execute_result"
    }
   ],
   "source": [
    "range2"
   ]
  },
  {
   "cell_type": "code",
   "execution_count": 52,
   "id": "35925e2b",
   "metadata": {},
   "outputs": [],
   "source": [
    "bajra=pd.read_csv(\"C:\\\\Users\\Raksh\\OneDrive\\Documents\\RVU\\RUDRA\\Bajra.csv\")"
   ]
  },
  {
   "cell_type": "code",
   "execution_count": 53,
   "id": "9dfc27e0",
   "metadata": {},
   "outputs": [
    {
     "data": {
      "text/html": [
       "<div>\n",
       "<style scoped>\n",
       "    .dataframe tbody tr th:only-of-type {\n",
       "        vertical-align: middle;\n",
       "    }\n",
       "\n",
       "    .dataframe tbody tr th {\n",
       "        vertical-align: top;\n",
       "    }\n",
       "\n",
       "    .dataframe thead th {\n",
       "        text-align: right;\n",
       "    }\n",
       "</style>\n",
       "<table border=\"1\" class=\"dataframe\">\n",
       "  <thead>\n",
       "    <tr style=\"text-align: right;\">\n",
       "      <th></th>\n",
       "      <th>State</th>\n",
       "      <th>District</th>\n",
       "      <th>Crop</th>\n",
       "      <th>Year</th>\n",
       "      <th>Season</th>\n",
       "      <th>Area</th>\n",
       "      <th>Area Units</th>\n",
       "      <th>Production</th>\n",
       "      <th>Production Units</th>\n",
       "      <th>Yield</th>\n",
       "    </tr>\n",
       "  </thead>\n",
       "  <tbody>\n",
       "    <tr>\n",
       "      <th>0</th>\n",
       "      <td>Andhra Pradesh</td>\n",
       "      <td>ADILABAD</td>\n",
       "      <td>Bajra</td>\n",
       "      <td>2001-02</td>\n",
       "      <td>Rabi</td>\n",
       "      <td>628.0</td>\n",
       "      <td>Hectare</td>\n",
       "      <td>293.0</td>\n",
       "      <td>Tonnes</td>\n",
       "      <td>0.466561</td>\n",
       "    </tr>\n",
       "    <tr>\n",
       "      <th>1</th>\n",
       "      <td>Andhra Pradesh</td>\n",
       "      <td>ADILABAD</td>\n",
       "      <td>Bajra</td>\n",
       "      <td>2002-03</td>\n",
       "      <td>Rabi</td>\n",
       "      <td>960.0</td>\n",
       "      <td>Hectare</td>\n",
       "      <td>455.0</td>\n",
       "      <td>Tonnes</td>\n",
       "      <td>0.473958</td>\n",
       "    </tr>\n",
       "    <tr>\n",
       "      <th>2</th>\n",
       "      <td>Andhra Pradesh</td>\n",
       "      <td>ADILABAD</td>\n",
       "      <td>Bajra</td>\n",
       "      <td>2003-04</td>\n",
       "      <td>Rabi</td>\n",
       "      <td>1820.0</td>\n",
       "      <td>Hectare</td>\n",
       "      <td>1112.0</td>\n",
       "      <td>Tonnes</td>\n",
       "      <td>0.610989</td>\n",
       "    </tr>\n",
       "    <tr>\n",
       "      <th>3</th>\n",
       "      <td>Andhra Pradesh</td>\n",
       "      <td>ANANTAPUR</td>\n",
       "      <td>Bajra</td>\n",
       "      <td>2001-02</td>\n",
       "      <td>Kharif</td>\n",
       "      <td>1595.0</td>\n",
       "      <td>Hectare</td>\n",
       "      <td>526.0</td>\n",
       "      <td>Tonnes</td>\n",
       "      <td>0.329781</td>\n",
       "    </tr>\n",
       "    <tr>\n",
       "      <th>4</th>\n",
       "      <td>Andhra Pradesh</td>\n",
       "      <td>ANANTAPUR</td>\n",
       "      <td>Bajra</td>\n",
       "      <td>2001-02</td>\n",
       "      <td>Rabi</td>\n",
       "      <td>27.0</td>\n",
       "      <td>Hectare</td>\n",
       "      <td>9.0</td>\n",
       "      <td>Tonnes</td>\n",
       "      <td>0.333333</td>\n",
       "    </tr>\n",
       "    <tr>\n",
       "      <th>...</th>\n",
       "      <td>...</td>\n",
       "      <td>...</td>\n",
       "      <td>...</td>\n",
       "      <td>...</td>\n",
       "      <td>...</td>\n",
       "      <td>...</td>\n",
       "      <td>...</td>\n",
       "      <td>...</td>\n",
       "      <td>...</td>\n",
       "      <td>...</td>\n",
       "    </tr>\n",
       "    <tr>\n",
       "      <th>7791</th>\n",
       "      <td>West Bengal</td>\n",
       "      <td>MURSHIDABAD</td>\n",
       "      <td>Bajra</td>\n",
       "      <td>1997-98</td>\n",
       "      <td>Kharif</td>\n",
       "      <td>15.0</td>\n",
       "      <td>Hectare</td>\n",
       "      <td>3.0</td>\n",
       "      <td>Tonnes</td>\n",
       "      <td>0.200000</td>\n",
       "    </tr>\n",
       "    <tr>\n",
       "      <th>7792</th>\n",
       "      <td>West Bengal</td>\n",
       "      <td>MURSHIDABAD</td>\n",
       "      <td>Bajra</td>\n",
       "      <td>1998-99</td>\n",
       "      <td>Kharif</td>\n",
       "      <td>15.0</td>\n",
       "      <td>Hectare</td>\n",
       "      <td>3.0</td>\n",
       "      <td>Tonnes</td>\n",
       "      <td>0.200000</td>\n",
       "    </tr>\n",
       "    <tr>\n",
       "      <th>7793</th>\n",
       "      <td>West Bengal</td>\n",
       "      <td>MURSHIDABAD</td>\n",
       "      <td>Bajra</td>\n",
       "      <td>1999-00</td>\n",
       "      <td>Kharif</td>\n",
       "      <td>15.0</td>\n",
       "      <td>Hectare</td>\n",
       "      <td>3.0</td>\n",
       "      <td>Tonnes</td>\n",
       "      <td>0.200000</td>\n",
       "    </tr>\n",
       "    <tr>\n",
       "      <th>7794</th>\n",
       "      <td>West Bengal</td>\n",
       "      <td>PURBA BARDHAMAN</td>\n",
       "      <td>Bajra</td>\n",
       "      <td>2000-01</td>\n",
       "      <td>Kharif</td>\n",
       "      <td>95.0</td>\n",
       "      <td>Hectare</td>\n",
       "      <td>113.0</td>\n",
       "      <td>Tonnes</td>\n",
       "      <td>1.189474</td>\n",
       "    </tr>\n",
       "    <tr>\n",
       "      <th>7795</th>\n",
       "      <td>West Bengal</td>\n",
       "      <td>PURULIA</td>\n",
       "      <td>Bajra</td>\n",
       "      <td>2000-01</td>\n",
       "      <td>Kharif</td>\n",
       "      <td>23.0</td>\n",
       "      <td>Hectare</td>\n",
       "      <td>7.0</td>\n",
       "      <td>Tonnes</td>\n",
       "      <td>0.304348</td>\n",
       "    </tr>\n",
       "  </tbody>\n",
       "</table>\n",
       "<p>7796 rows × 10 columns</p>\n",
       "</div>"
      ],
      "text/plain": [
       "               State         District   Crop     Year  Season    Area  \\\n",
       "0     Andhra Pradesh         ADILABAD  Bajra  2001-02    Rabi   628.0   \n",
       "1     Andhra Pradesh         ADILABAD  Bajra  2002-03    Rabi   960.0   \n",
       "2     Andhra Pradesh         ADILABAD  Bajra  2003-04    Rabi  1820.0   \n",
       "3     Andhra Pradesh        ANANTAPUR  Bajra  2001-02  Kharif  1595.0   \n",
       "4     Andhra Pradesh        ANANTAPUR  Bajra  2001-02    Rabi    27.0   \n",
       "...              ...              ...    ...      ...     ...     ...   \n",
       "7791     West Bengal      MURSHIDABAD  Bajra  1997-98  Kharif    15.0   \n",
       "7792     West Bengal      MURSHIDABAD  Bajra  1998-99  Kharif    15.0   \n",
       "7793     West Bengal      MURSHIDABAD  Bajra  1999-00  Kharif    15.0   \n",
       "7794     West Bengal  PURBA BARDHAMAN  Bajra  2000-01  Kharif    95.0   \n",
       "7795     West Bengal          PURULIA  Bajra  2000-01  Kharif    23.0   \n",
       "\n",
       "     Area Units  Production Production Units     Yield  \n",
       "0       Hectare       293.0           Tonnes  0.466561  \n",
       "1       Hectare       455.0           Tonnes  0.473958  \n",
       "2       Hectare      1112.0           Tonnes  0.610989  \n",
       "3       Hectare       526.0           Tonnes  0.329781  \n",
       "4       Hectare         9.0           Tonnes  0.333333  \n",
       "...         ...         ...              ...       ...  \n",
       "7791    Hectare         3.0           Tonnes  0.200000  \n",
       "7792    Hectare         3.0           Tonnes  0.200000  \n",
       "7793    Hectare         3.0           Tonnes  0.200000  \n",
       "7794    Hectare       113.0           Tonnes  1.189474  \n",
       "7795    Hectare         7.0           Tonnes  0.304348  \n",
       "\n",
       "[7796 rows x 10 columns]"
      ]
     },
     "execution_count": 53,
     "metadata": {},
     "output_type": "execute_result"
    }
   ],
   "source": [
    "bajra"
   ]
  },
  {
   "cell_type": "code",
   "execution_count": 54,
   "id": "8281d215",
   "metadata": {},
   "outputs": [],
   "source": [
    "max3=bajra[\"Yield\"].max()"
   ]
  },
  {
   "cell_type": "code",
   "execution_count": 55,
   "id": "05d482fb",
   "metadata": {},
   "outputs": [
    {
     "data": {
      "text/plain": [
       "15.73015873"
      ]
     },
     "execution_count": 55,
     "metadata": {},
     "output_type": "execute_result"
    }
   ],
   "source": [
    "max3"
   ]
  },
  {
   "cell_type": "code",
   "execution_count": 56,
   "id": "b08531da",
   "metadata": {},
   "outputs": [],
   "source": [
    "min3=bajra[\"Yield\"].min()"
   ]
  },
  {
   "cell_type": "code",
   "execution_count": 57,
   "id": "839bf465",
   "metadata": {},
   "outputs": [
    {
     "data": {
      "text/plain": [
       "0.0"
      ]
     },
     "execution_count": 57,
     "metadata": {},
     "output_type": "execute_result"
    }
   ],
   "source": [
    "min3"
   ]
  },
  {
   "cell_type": "code",
   "execution_count": 58,
   "id": "a1e59f5c",
   "metadata": {},
   "outputs": [],
   "source": [
    "range3=max3-min3"
   ]
  },
  {
   "cell_type": "code",
   "execution_count": 59,
   "id": "c64971da",
   "metadata": {},
   "outputs": [
    {
     "data": {
      "text/plain": [
       "15.73015873"
      ]
     },
     "execution_count": 59,
     "metadata": {},
     "output_type": "execute_result"
    }
   ],
   "source": [
    "range3"
   ]
  },
  {
   "cell_type": "code",
   "execution_count": 62,
   "id": "c36c55ae",
   "metadata": {},
   "outputs": [
    {
     "data": {
      "text/plain": [
       "258.0689655"
      ]
     },
     "execution_count": 62,
     "metadata": {},
     "output_type": "execute_result"
    }
   ],
   "source": [
    "banana=pd.read_csv(\"C:\\\\Users\\\\Raksh\\\\OneDrive\\\\Documents\\\\RVU\\\\RUDRA\\\\banana.csv\")\n",
    "banana\n",
    "max4=banana[\"Yield\"].max()\n",
    "min4=banana[\"Yield\"].min()\n",
    "range4=max4-min4\n",
    "range4"
   ]
  },
  {
   "cell_type": "code",
   "execution_count": 64,
   "id": "1dbee5f7",
   "metadata": {},
   "outputs": [
    {
     "data": {
      "text/plain": [
       "10.0"
      ]
     },
     "execution_count": 64,
     "metadata": {},
     "output_type": "execute_result"
    }
   ],
   "source": [
    "barley=pd.read_csv(\"C:\\\\Users\\\\Raksh\\\\OneDrive\\\\Documents\\\\RVU\\\\RUDRA\\\\barley.csv\")\n",
    "barley\n",
    "max5=barley[\"Yield\"].max()\n",
    "min5=barley[\"Yield\"].min()\n",
    "range5=max5-min5\n",
    "range5"
   ]
  },
  {
   "cell_type": "code",
   "execution_count": 65,
   "id": "14670a3f",
   "metadata": {},
   "outputs": [
    {
     "data": {
      "text/plain": [
       "5.177737059"
      ]
     },
     "execution_count": 65,
     "metadata": {},
     "output_type": "execute_result"
    }
   ],
   "source": [
    "black_pepper=pd.read_csv(\"C:\\\\Users\\\\Raksh\\\\OneDrive\\\\Documents\\\\RVU\\\\RUDRA\\\\Black Pepper.csv\")\n",
    "black_pepper\n",
    "max6=black_pepper[\"Yield\"].max()\n",
    "min6=black_pepper[\"Yield\"].min()\n",
    "range6=max6-min6\n",
    "range6"
   ]
  },
  {
   "cell_type": "code",
   "execution_count": 66,
   "id": "8ca86b43",
   "metadata": {},
   "outputs": [
    {
     "data": {
      "text/plain": [
       "5.5"
      ]
     },
     "execution_count": 66,
     "metadata": {},
     "output_type": "execute_result"
    }
   ],
   "source": [
    "cardomom=pd.read_csv(\"C:\\\\Users\\\\Raksh\\\\OneDrive\\\\Documents\\\\RVU\\\\RUDRA\\\\Cardomom.csv\")\n",
    "cardomom\n",
    "max7=cardomom[\"Yield\"].max()\n",
    "min7=cardomom[\"Yield\"].min()\n",
    "range7=max7-min7\n",
    "range7"
   ]
  },
  {
   "cell_type": "code",
   "execution_count": 70,
   "id": "f95f8248",
   "metadata": {},
   "outputs": [
    {
     "data": {
      "text/plain": [
       "9801.0"
      ]
     },
     "execution_count": 70,
     "metadata": {},
     "output_type": "execute_result"
    }
   ],
   "source": [
    "cashew=pd.read_csv(\"C:\\\\Users\\\\Raksh\\\\OneDrive\\\\Documents\\\\RVU\\\\RUDRA\\\\Cashewnuts.csv\")\n",
    "cashew\n",
    "max8=cashew[\"Yield\"].max()\n",
    "min8=cashew[\"Yield\"].min()\n",
    "range8=max8-min8\n",
    "range8"
   ]
  },
  {
   "cell_type": "code",
   "execution_count": 73,
   "id": "b65d9536",
   "metadata": {},
   "outputs": [
    {
     "data": {
      "text/plain": [
       "7.5"
      ]
     },
     "execution_count": 73,
     "metadata": {},
     "output_type": "execute_result"
    }
   ],
   "source": [
    "castor=pd.read_csv(\"C:\\\\Users\\\\Raksh\\\\OneDrive\\\\Documents\\\\RVU\\\\RUDRA\\\\Castor Seed.csv\")\n",
    "castor\n",
    "max9=castor[\"Yield\"].max()\n",
    "min9=castor[\"Yield\"].min()\n",
    "range9=max9-min9\n",
    "range9"
   ]
  },
  {
   "cell_type": "code",
   "execution_count": 74,
   "id": "e60f3057",
   "metadata": {},
   "outputs": [
    {
     "data": {
      "text/plain": [
       "43958.33333"
      ]
     },
     "execution_count": 74,
     "metadata": {},
     "output_type": "execute_result"
    }
   ],
   "source": [
    "coconut=pd.read_csv(\"C:\\\\Users\\\\Raksh\\\\OneDrive\\\\Documents\\\\RVU\\\\RUDRA\\\\coconut.csv\")\n",
    "coconut\n",
    "max10=coconut[\"Yield\"].max()\n",
    "min10=coconut[\"Yield\"].min()\n",
    "range10=max10-min10\n",
    "range10"
   ]
  },
  {
   "cell_type": "code",
   "execution_count": 75,
   "id": "daa0ea65",
   "metadata": {},
   "outputs": [
    {
     "data": {
      "text/plain": [
       "16.0"
      ]
     },
     "execution_count": 75,
     "metadata": {},
     "output_type": "execute_result"
    }
   ],
   "source": [
    "corriender=pd.read_csv(\"C:\\\\Users\\\\Raksh\\\\OneDrive\\\\Documents\\\\RVU\\\\RUDRA\\\\corriender.csv\")\n",
    "corriender\n",
    "max11=corriender[\"Yield\"].max()\n",
    "min11=corriender[\"Yield\"].min()\n",
    "range11=max11-min11\n",
    "range11"
   ]
  },
  {
   "cell_type": "code",
   "execution_count": 76,
   "id": "fcb3bf4b",
   "metadata": {},
   "outputs": [
    {
     "data": {
      "text/plain": [
       "300.0"
      ]
     },
     "execution_count": 76,
     "metadata": {},
     "output_type": "execute_result"
    }
   ],
   "source": [
    "cotton=pd.read_csv(\"C:\\\\Users\\\\Raksh\\\\OneDrive\\\\Documents\\\\RVU\\\\RUDRA\\\\cotton.csv\")\n",
    "cotton\n",
    "max12=cotton[\"Yield\"].max()\n",
    "min12=cotton[\"Yield\"].min()\n",
    "range12=max12-min12\n",
    "range12"
   ]
  },
  {
   "cell_type": "code",
   "execution_count": 78,
   "id": "8a8ea4d0",
   "metadata": {},
   "outputs": [
    {
     "data": {
      "text/plain": [
       "9.244755245"
      ]
     },
     "execution_count": 78,
     "metadata": {},
     "output_type": "execute_result"
    }
   ],
   "source": [
    "cowpea=pd.read_csv(\"C:\\\\Users\\\\Raksh\\\\OneDrive\\\\Documents\\\\RVU\\\\RUDRA\\\\cowpea(lobia).csv\")\n",
    "cowpea\n",
    "max13=cowpea[\"Yield\"].max()\n",
    "min13=cowpea[\"Yield\"].min()\n",
    "range13=max13-min13\n",
    "range13"
   ]
  },
  {
   "cell_type": "code",
   "execution_count": 80,
   "id": "bfea5e57",
   "metadata": {},
   "outputs": [
    {
     "data": {
      "text/plain": [
       "40.0"
      ]
     },
     "execution_count": 80,
     "metadata": {},
     "output_type": "execute_result"
    }
   ],
   "source": [
    "dry_chilli=pd.read_csv(\"C:\\\\Users\\\\Raksh\\\\OneDrive\\\\Documents\\\\RVU\\\\RUDRA\\\\dry chillies.csv\")\n",
    "dry_chilli\n",
    "max14=dry_chilli[\"Yield\"].max()\n",
    "min14=dry_chilli[\"Yield\"].min()\n",
    "range14=max14-min14\n",
    "range14"
   ]
  },
  {
   "cell_type": "code",
   "execution_count": 81,
   "id": "a2fa2c2a",
   "metadata": {},
   "outputs": [
    {
     "data": {
      "text/plain": [
       "1.4998048110000006"
      ]
     },
     "execution_count": 81,
     "metadata": {},
     "output_type": "execute_result"
    }
   ],
   "source": [
    "dry_ginger=pd.read_csv(\"C:\\\\Users\\\\Raksh\\\\OneDrive\\\\Documents\\\\RVU\\\\RUDRA\\\\dry ginger.csv\")\n",
    "dry_ginger\n",
    "max15=dry_ginger[\"Yield\"].max()\n",
    "min15=dry_ginger[\"Yield\"].min()\n",
    "range15=max15-min15\n",
    "range15"
   ]
  },
  {
   "cell_type": "code",
   "execution_count": 82,
   "id": "6d56b10f",
   "metadata": {},
   "outputs": [
    {
     "data": {
      "text/plain": [
       "25.07172131"
      ]
     },
     "execution_count": 82,
     "metadata": {},
     "output_type": "execute_result"
    }
   ],
   "source": [
    "garlic=pd.read_csv(\"C:\\\\Users\\\\Raksh\\\\OneDrive\\\\Documents\\\\RVU\\\\RUDRA\\\\garlic.csv\")\n",
    "garlic\n",
    "max16=garlic[\"Yield\"].max()\n",
    "min16=garlic[\"Yield\"].min()\n",
    "range16=max16-min16\n",
    "range16"
   ]
  },
  {
   "cell_type": "code",
   "execution_count": 83,
   "id": "0f05e8b0",
   "metadata": {},
   "outputs": [
    {
     "data": {
      "text/plain": [
       "39.49110953"
      ]
     },
     "execution_count": 83,
     "metadata": {},
     "output_type": "execute_result"
    }
   ],
   "source": [
    "ginger=pd.read_csv(\"C:\\\\Users\\\\Raksh\\\\OneDrive\\\\Documents\\\\RVU\\\\RUDRA\\\\ginger.csv\")\n",
    "ginger\n",
    "max17=ginger[\"Yield\"].max()\n",
    "min17=ginger[\"Yield\"].min()\n",
    "range17=max17-min17\n",
    "range17"
   ]
  },
  {
   "cell_type": "code",
   "execution_count": 84,
   "id": "f6a86471",
   "metadata": {},
   "outputs": [
    {
     "data": {
      "text/plain": [
       "13.08333333"
      ]
     },
     "execution_count": 84,
     "metadata": {},
     "output_type": "execute_result"
    }
   ],
   "source": [
    "gram=pd.read_csv(\"C:\\\\Users\\\\Raksh\\\\OneDrive\\\\Documents\\\\RVU\\\\RUDRA\\\\gram.csv\")\n",
    "gram\n",
    "max18=gram[\"Yield\"].max()\n",
    "min18=gram[\"Yield\"].min()\n",
    "range18=max18-min18\n",
    "range18"
   ]
  },
  {
   "cell_type": "code",
   "execution_count": 85,
   "id": "13ad9368",
   "metadata": {},
   "outputs": [
    {
     "data": {
      "text/plain": [
       "49.0"
      ]
     },
     "execution_count": 85,
     "metadata": {},
     "output_type": "execute_result"
    }
   ],
   "source": [
    "groundnut=pd.read_csv(\"C:\\\\Users\\\\Raksh\\\\OneDrive\\\\Documents\\\\RVU\\\\RUDRA\\\\groundnut.csv\")\n",
    "groundnut\n",
    "max19=groundnut[\"Yield\"].max()\n",
    "min19=groundnut[\"Yield\"].min()\n",
    "range19=max19-min19\n",
    "range19"
   ]
  },
  {
   "cell_type": "code",
   "execution_count": 86,
   "id": "f5811d19",
   "metadata": {},
   "outputs": [
    {
     "data": {
      "text/plain": [
       "40.0"
      ]
     },
     "execution_count": 86,
     "metadata": {},
     "output_type": "execute_result"
    }
   ],
   "source": [
    "guar=pd.read_csv(\"C:\\\\Users\\\\Raksh\\\\OneDrive\\\\Documents\\\\RVU\\\\RUDRA\\\\guar seed.csv\")\n",
    "guar\n",
    "max20=guar[\"Yield\"].max()\n",
    "min20=guar[\"Yield\"].min()\n",
    "range20=max20-min20\n",
    "range20"
   ]
  },
  {
   "cell_type": "code",
   "execution_count": 87,
   "id": "af8b6a1d",
   "metadata": {},
   "outputs": [
    {
     "data": {
      "text/plain": [
       "5.255451713"
      ]
     },
     "execution_count": 87,
     "metadata": {},
     "output_type": "execute_result"
    }
   ],
   "source": [
    "horse_gram=pd.read_csv(\"C:\\\\Users\\\\Raksh\\\\OneDrive\\\\Documents\\\\RVU\\\\RUDRA\\\\horse gram.csv\")\n",
    "horse_gram\n",
    "max21=horse_gram[\"Yield\"].max()\n",
    "min21=horse_gram[\"Yield\"].min()\n",
    "range21=max21-min21\n",
    "range21"
   ]
  },
  {
   "cell_type": "code",
   "execution_count": 89,
   "id": "e6660824",
   "metadata": {},
   "outputs": [
    {
     "data": {
      "text/plain": [
       "22.0"
      ]
     },
     "execution_count": 89,
     "metadata": {},
     "output_type": "execute_result"
    }
   ],
   "source": [
    "jowar=pd.read_csv(\"C:\\\\Users\\\\Raksh\\\\OneDrive\\\\Documents\\\\RVU\\\\RUDRA\\\\jowar.csv\")\n",
    "jowar\n",
    "max22=jowar[\"Yield\"].max()\n",
    "min22=jowar[\"Yield\"].min()\n",
    "range22=max22-min22\n",
    "range22"
   ]
  },
  {
   "cell_type": "code",
   "execution_count": 91,
   "id": "7482ba11",
   "metadata": {},
   "outputs": [
    {
     "data": {
      "text/plain": [
       "180.2922636"
      ]
     },
     "execution_count": 91,
     "metadata": {},
     "output_type": "execute_result"
    }
   ],
   "source": [
    "jute=pd.read_csv(\"C:\\\\Users\\\\Raksh\\\\OneDrive\\\\Documents\\\\RVU\\\\RUDRA\\\\jute.csv\")\n",
    "jute\n",
    "max23=jute[\"Yield\"].max()\n",
    "min23=jute[\"Yield\"].min()\n",
    "range23=max23-min23\n",
    "range23"
   ]
  },
  {
   "cell_type": "code",
   "execution_count": 92,
   "id": "900d0499",
   "metadata": {},
   "outputs": [
    {
     "data": {
      "text/plain": [
       "3.0"
      ]
     },
     "execution_count": 92,
     "metadata": {},
     "output_type": "execute_result"
    }
   ],
   "source": [
    "khesari=pd.read_csv(\"C:\\\\Users\\\\Raksh\\\\OneDrive\\\\Documents\\\\RVU\\\\RUDRA\\\\khesari.csv\")\n",
    "khesari\n",
    "max24=khesari[\"Yield\"].max()\n",
    "min24=khesari[\"Yield\"].min()\n",
    "range24=max24-min24\n",
    "range24"
   ]
  },
  {
   "cell_type": "code",
   "execution_count": 93,
   "id": "01d2ab93",
   "metadata": {},
   "outputs": [
    {
     "data": {
      "text/plain": [
       "7.0"
      ]
     },
     "execution_count": 93,
     "metadata": {},
     "output_type": "execute_result"
    }
   ],
   "source": [
    "linseed=pd.read_csv(\"C:\\\\Users\\\\Raksh\\\\OneDrive\\\\Documents\\\\RVU\\\\RUDRA\\\\linseed.csv\")\n",
    "linseed\n",
    "max25=linseed[\"Yield\"].max()\n",
    "min25=linseed[\"Yield\"].min()\n",
    "range25=max25-min25\n",
    "range25"
   ]
  },
  {
   "cell_type": "code",
   "execution_count": 94,
   "id": "64af8ec3",
   "metadata": {},
   "outputs": [
    {
     "data": {
      "text/plain": [
       "1494.0"
      ]
     },
     "execution_count": 94,
     "metadata": {},
     "output_type": "execute_result"
    }
   ],
   "source": [
    "maize=pd.read_csv(\"C:\\\\Users\\\\Raksh\\\\OneDrive\\\\Documents\\\\RVU\\\\RUDRA\\\\maize.csv\")\n",
    "maize\n",
    "max26=maize[\"Yield\"].max()\n",
    "min26=maize[\"Yield\"].min()\n",
    "range26=max26-min26\n",
    "range26"
   ]
  },
  {
   "cell_type": "code",
   "execution_count": 95,
   "id": "ebafc85d",
   "metadata": {},
   "outputs": [
    {
     "data": {
      "text/plain": [
       "3.571428571"
      ]
     },
     "execution_count": 95,
     "metadata": {},
     "output_type": "execute_result"
    }
   ],
   "source": [
    "masoor=pd.read_csv(\"C:\\\\Users\\\\Raksh\\\\OneDrive\\\\Documents\\\\RVU\\\\RUDRA\\\\masoor.csv\")\n",
    "masoor\n",
    "max27=masoor[\"Yield\"].max()\n",
    "min27=masoor[\"Yield\"].min()\n",
    "range27=max27-min27\n",
    "range27"
   ]
  },
  {
   "cell_type": "code",
   "execution_count": 96,
   "id": "e7137304",
   "metadata": {},
   "outputs": [
    {
     "data": {
      "text/plain": [
       "68.0"
      ]
     },
     "execution_count": 96,
     "metadata": {},
     "output_type": "execute_result"
    }
   ],
   "source": [
    "mesta=pd.read_csv(\"C:\\\\Users\\\\Raksh\\\\OneDrive\\\\Documents\\\\RVU\\\\RUDRA\\\\mesta.csv\")\n",
    "mesta\n",
    "max28=mesta[\"Yield\"].max()\n",
    "min28=mesta[\"Yield\"].min()\n",
    "range28=max28-min28\n",
    "range28"
   ]
  },
  {
   "cell_type": "code",
   "execution_count": 97,
   "id": "f6b4c923",
   "metadata": {},
   "outputs": [
    {
     "data": {
      "text/plain": [
       "8.0"
      ]
     },
     "execution_count": 97,
     "metadata": {},
     "output_type": "execute_result"
    }
   ],
   "source": [
    "moong=pd.read_csv(\"C:\\\\Users\\\\Raksh\\\\OneDrive\\\\Documents\\\\RVU\\\\RUDRA\\\\moong(green gram).csv\")\n",
    "moong\n",
    "max29=moong[\"Yield\"].max()\n",
    "min29=moong[\"Yield\"].min()\n",
    "range29=max29-min29\n",
    "range29"
   ]
  },
  {
   "cell_type": "code",
   "execution_count": 98,
   "id": "d8ff0af6",
   "metadata": {},
   "outputs": [
    {
     "data": {
      "text/plain": [
       "1.753289474"
      ]
     },
     "execution_count": 98,
     "metadata": {},
     "output_type": "execute_result"
    }
   ],
   "source": [
    "moth=pd.read_csv(\"C:\\\\Users\\\\Raksh\\\\OneDrive\\\\Documents\\\\RVU\\\\RUDRA\\\\moth.csv\")\n",
    "moth\n",
    "max30=moth[\"Yield\"].max()\n",
    "min30=moth[\"Yield\"].min()\n",
    "range30=max30-min30\n",
    "range30"
   ]
  },
  {
   "cell_type": "code",
   "execution_count": 99,
   "id": "779b43b5",
   "metadata": {},
   "outputs": [
    {
     "data": {
      "text/plain": [
       "71.0"
      ]
     },
     "execution_count": 99,
     "metadata": {},
     "output_type": "execute_result"
    }
   ],
   "source": [
    "niger=pd.read_csv(\"C:\\\\Users\\\\Raksh\\\\OneDrive\\\\Documents\\\\RVU\\\\RUDRA\\\\niger seed.csv\")\n",
    "niger\n",
    "max31=niger[\"Yield\"].max()\n",
    "min31=niger[\"Yield\"].min()\n",
    "range31=max31-min31\n",
    "range31"
   ]
  },
  {
   "cell_type": "code",
   "execution_count": 100,
   "id": "e05ce9b3",
   "metadata": {},
   "outputs": [
    {
     "data": {
      "text/plain": [
       "24.73092414"
      ]
     },
     "execution_count": 100,
     "metadata": {},
     "output_type": "execute_result"
    }
   ],
   "source": [
    "oilseeds=pd.read_csv(\"C:\\\\Users\\\\Raksh\\\\OneDrive\\\\Documents\\\\RVU\\\\RUDRA\\\\oilseeds.csv\")\n",
    "oilseeds\n",
    "max32=oilseeds[\"Yield\"].max()\n",
    "min32=oilseeds[\"Yield\"].min()\n",
    "range32=max32-min32\n",
    "range32"
   ]
  },
  {
   "cell_type": "code",
   "execution_count": 101,
   "id": "cb964b01",
   "metadata": {},
   "outputs": [
    {
     "data": {
      "text/plain": [
       "4070.0"
      ]
     },
     "execution_count": 101,
     "metadata": {},
     "output_type": "execute_result"
    }
   ],
   "source": [
    "onion=pd.read_csv(\"C:\\\\Users\\\\Raksh\\\\OneDrive\\\\Documents\\\\RVU\\\\RUDRA\\\\onion.csv\")\n",
    "onion\n",
    "max33=onion[\"Yield\"].max()\n",
    "min33=onion[\"Yield\"].min()\n",
    "range33=max33-min33\n",
    "range33"
   ]
  },
  {
   "cell_type": "code",
   "execution_count": 102,
   "id": "218dde45",
   "metadata": {},
   "outputs": [
    {
     "data": {
      "text/plain": [
       "10.38571429"
      ]
     },
     "execution_count": 102,
     "metadata": {},
     "output_type": "execute_result"
    }
   ],
   "source": [
    "other_cereals=pd.read_csv(\"C:\\\\Users\\\\Raksh\\\\OneDrive\\\\Documents\\\\RVU\\\\RUDRA\\\\other cereals.csv\")\n",
    "other_cereals\n",
    "max34=other_cereals[\"Yield\"].max()\n",
    "min34=other_cereals[\"Yield\"].min()\n",
    "range34=max34-min34\n",
    "range34"
   ]
  },
  {
   "cell_type": "code",
   "execution_count": 104,
   "id": "5033b4a2",
   "metadata": {},
   "outputs": [
    {
     "data": {
      "text/plain": [
       "12.66666667"
      ]
     },
     "execution_count": 104,
     "metadata": {},
     "output_type": "execute_result"
    }
   ],
   "source": [
    "other_kharif_pulses=pd.read_csv(\"C:\\\\Users\\\\Raksh\\\\OneDrive\\\\Documents\\\\RVU\\\\RUDRA\\\\other kharif pulses.csv\")\n",
    "other_kharif_pulses\n",
    "max35=other_kharif_pulses[\"Yield\"].max()\n",
    "min35=other_kharif_pulses[\"Yield\"].min()\n",
    "range35=max35-min35\n",
    "range35"
   ]
  },
  {
   "cell_type": "code",
   "execution_count": 105,
   "id": "16b32183",
   "metadata": {},
   "outputs": [
    {
     "data": {
      "text/plain": [
       "32.57481499"
      ]
     },
     "execution_count": 105,
     "metadata": {},
     "output_type": "execute_result"
    }
   ],
   "source": [
    "other_oilseeds=pd.read_csv(\"C:\\\\Users\\\\Raksh\\\\OneDrive\\\\Documents\\\\RVU\\\\RUDRA\\\\other oilseeds.csv\")\n",
    "other_oilseeds\n",
    "max36=other_oilseeds[\"Yield\"].max()\n",
    "min36=other_oilseeds[\"Yield\"].min()\n",
    "range36=max36-min36\n",
    "range36"
   ]
  },
  {
   "cell_type": "code",
   "execution_count": 107,
   "id": "3f97b71f",
   "metadata": {},
   "outputs": [
    {
     "data": {
      "text/plain": [
       "251.0"
      ]
     },
     "execution_count": 107,
     "metadata": {},
     "output_type": "execute_result"
    }
   ],
   "source": [
    "other_rabi_pulses=pd.read_csv(\"C:\\\\Users\\\\Raksh\\\\OneDrive\\\\Documents\\\\RVU\\\\RUDRA\\\\other rabi pulses.csv\")\n",
    "other_rabi_pulses\n",
    "max37=other_rabi_pulses[\"Yield\"].max()\n",
    "min37=other_rabi_pulses[\"Yield\"].min()\n",
    "range37=max37-min37\n",
    "range37"
   ]
  },
  {
   "cell_type": "code",
   "execution_count": 108,
   "id": "9297b5e3",
   "metadata": {},
   "outputs": [
    {
     "data": {
      "text/plain": [
       "2.8"
      ]
     },
     "execution_count": 108,
     "metadata": {},
     "output_type": "execute_result"
    }
   ],
   "source": [
    "other_summer_pulses=pd.read_csv(\"C:\\\\Users\\\\Raksh\\\\OneDrive\\\\Documents\\\\RVU\\\\RUDRA\\\\other summer pulses.csv\")\n",
    "other_summer_pulses\n",
    "max38=other_summer_pulses[\"Yield\"].max()\n",
    "min38=other_summer_pulses[\"Yield\"].min()\n",
    "range38=max38-min38\n",
    "range38"
   ]
  },
  {
   "cell_type": "code",
   "execution_count": 109,
   "id": "d4812fae",
   "metadata": {},
   "outputs": [
    {
     "data": {
      "text/plain": [
       "28.33333333"
      ]
     },
     "execution_count": 109,
     "metadata": {},
     "output_type": "execute_result"
    }
   ],
   "source": [
    "peas_beans=pd.read_csv(\"C:\\\\Users\\\\Raksh\\\\OneDrive\\\\Documents\\\\RVU\\\\RUDRA\\\\Peas and beans(Pulses).csv\")\n",
    "peas_beans\n",
    "max39=peas_beans[\"Yield\"].max()\n",
    "min39=peas_beans[\"Yield\"].min()\n",
    "range39=max39-min39\n",
    "range39"
   ]
  },
  {
   "cell_type": "code",
   "execution_count": 110,
   "id": "9694278a",
   "metadata": {},
   "outputs": [
    {
     "data": {
      "text/plain": [
       "311.0196078"
      ]
     },
     "execution_count": 110,
     "metadata": {},
     "output_type": "execute_result"
    }
   ],
   "source": [
    "potato=pd.read_csv(\"C:\\\\Users\\\\Raksh\\\\OneDrive\\\\Documents\\\\RVU\\\\RUDRA\\\\potato.csv\")\n",
    "potato\n",
    "max40=potato[\"Yield\"].max()\n",
    "min40=potato[\"Yield\"].min()\n",
    "range40=max40-min40\n",
    "range40"
   ]
  },
  {
   "cell_type": "code",
   "execution_count": 132,
   "id": "6d157848",
   "metadata": {},
   "outputs": [
    {
     "data": {
      "text/plain": [
       "9.75"
      ]
     },
     "execution_count": 132,
     "metadata": {},
     "output_type": "execute_result"
    }
   ],
   "source": [
    "ragi=pd.read_csv(\"C:\\\\Users\\\\Raksh\\\\OneDrive\\\\Documents\\\\RVU\\\\RUDRA\\\\ragi.csv\")\n",
    "ragi\n",
    "max41=ragi[\"Yield\"].max()\n",
    "min41=ragi[\"Yield\"].min()\n",
    "range41=max41-min41\n",
    "range41"
   ]
  },
  {
   "cell_type": "code",
   "execution_count": 133,
   "id": "77a32b2e",
   "metadata": {},
   "outputs": [
    {
     "data": {
      "text/plain": [
       "8.541666667"
      ]
     },
     "execution_count": 133,
     "metadata": {},
     "output_type": "execute_result"
    }
   ],
   "source": [
    "Rapeseed_Mustard=pd.read_csv(\"C:\\\\Users\\\\Raksh\\\\OneDrive\\\\Documents\\\\RVU\\\\RUDRA\\\\Rapeseed & Mustard.csv\")\n",
    "Rapeseed_Mustard\n",
    "max42=Rapeseed_Mustard[\"Yield\"].max()\n",
    "min42=Rapeseed_Mustard[\"Yield\"].min()\n",
    "range42=max42-min42\n",
    "range42"
   ]
  },
  {
   "cell_type": "code",
   "execution_count": 134,
   "id": "30e45cc2",
   "metadata": {},
   "outputs": [
    {
     "data": {
      "text/plain": [
       "223.7272727"
      ]
     },
     "execution_count": 134,
     "metadata": {},
     "output_type": "execute_result"
    }
   ],
   "source": [
    "rice=pd.read_csv(\"C:\\\\Users\\\\Raksh\\\\OneDrive\\\\Documents\\\\RVU\\\\RUDRA\\\\rice.csv\")\n",
    "rice\n",
    "max43=rice[\"Yield\"].max()\n",
    "min43=rice[\"Yield\"].min()\n",
    "range43=max43-min43\n",
    "range43"
   ]
  },
  {
   "cell_type": "code",
   "execution_count": 135,
   "id": "159f18ed",
   "metadata": {},
   "outputs": [
    {
     "data": {
      "text/plain": [
       "4.166666667"
      ]
     },
     "execution_count": 135,
     "metadata": {},
     "output_type": "execute_result"
    }
   ],
   "source": [
    "safflower=pd.read_csv(\"C:\\\\Users\\\\Raksh\\\\OneDrive\\\\Documents\\\\RVU\\\\RUDRA\\\\safflower.csv\")\n",
    "safflower\n",
    "max44=safflower[\"Yield\"].max()\n",
    "min44=safflower[\"Yield\"].min()\n",
    "range44=max44-min44\n",
    "range44"
   ]
  },
  {
   "cell_type": "code",
   "execution_count": 136,
   "id": "094899dc",
   "metadata": {},
   "outputs": [
    {
     "data": {
      "text/plain": [
       "1022.0"
      ]
     },
     "execution_count": 136,
     "metadata": {},
     "output_type": "execute_result"
    }
   ],
   "source": [
    "Sannhamp=pd.read_csv(\"C:\\\\Users\\\\Raksh\\\\OneDrive\\\\Documents\\\\RVU\\\\RUDRA\\\\Sannhamp.csv\")\n",
    "Sannhamp\n",
    "max45=Sannhamp[\"Yield\"].max()\n",
    "min45=Sannhamp[\"Yield\"].min()\n",
    "range45=max45-min45\n",
    "range45"
   ]
  },
  {
   "cell_type": "code",
   "execution_count": 137,
   "id": "a24f3691",
   "metadata": {},
   "outputs": [
    {
     "data": {
      "text/plain": [
       "275.0"
      ]
     },
     "execution_count": 137,
     "metadata": {},
     "output_type": "execute_result"
    }
   ],
   "source": [
    "Sesamum=pd.read_csv(\"C:\\\\Users\\\\Raksh\\\\OneDrive\\\\Documents\\\\RVU\\\\RUDRA\\\\Sesamum.csv\")\n",
    "Sesamum\n",
    "max46=Sesamum[\"Yield\"].max()\n",
    "min46=Sesamum[\"Yield\"].min()\n",
    "range46=max46-min46\n",
    "range46"
   ]
  },
  {
   "cell_type": "code",
   "execution_count": 138,
   "id": "c5eda1d7",
   "metadata": {},
   "outputs": [
    {
     "data": {
      "text/plain": [
       "21.66666667"
      ]
     },
     "execution_count": 138,
     "metadata": {},
     "output_type": "execute_result"
    }
   ],
   "source": [
    "Small_millets=pd.read_csv(\"C:\\\\Users\\\\Raksh\\\\OneDrive\\\\Documents\\\\RVU\\\\RUDRA\\\\Small millets.csv\")\n",
    "Small_millets\n",
    "max47=Small_millets[\"Yield\"].max()\n",
    "min47=Small_millets[\"Yield\"].min()\n",
    "range47=max47-min47\n",
    "range47"
   ]
  },
  {
   "cell_type": "code",
   "execution_count": 139,
   "id": "cc25ffc3",
   "metadata": {},
   "outputs": [
    {
     "data": {
      "text/plain": [
       "11.44444444"
      ]
     },
     "execution_count": 139,
     "metadata": {},
     "output_type": "execute_result"
    }
   ],
   "source": [
    "soyabeen=pd.read_csv(\"C:\\\\Users\\\\Raksh\\\\OneDrive\\\\Documents\\\\RVU\\\\RUDRA\\\\soyabean.csv\")\n",
    "soyabeen\n",
    "max48=soyabeen[\"Yield\"].max()\n",
    "min48=soyabeen[\"Yield\"].min()\n",
    "range48=max48-min48\n",
    "range48"
   ]
  },
  {
   "cell_type": "code",
   "execution_count": 140,
   "id": "9ca0d349",
   "metadata": {},
   "outputs": [
    {
     "data": {
      "text/plain": [
       "500.4915254"
      ]
     },
     "execution_count": 140,
     "metadata": {},
     "output_type": "execute_result"
    }
   ],
   "source": [
    "sugarcane=pd.read_csv(\"C:\\\\Users\\\\Raksh\\\\OneDrive\\\\Documents\\\\RVU\\\\RUDRA\\\\sugarcane.csv\")\n",
    "sugarcane\n",
    "max49=sugarcane[\"Yield\"].max()\n",
    "min49=sugarcane[\"Yield\"].min()\n",
    "range49=max49-min49\n",
    "range49"
   ]
  },
  {
   "cell_type": "code",
   "execution_count": 141,
   "id": "2781e40d",
   "metadata": {},
   "outputs": [
    {
     "data": {
      "text/plain": [
       "70.0"
      ]
     },
     "execution_count": 141,
     "metadata": {},
     "output_type": "execute_result"
    }
   ],
   "source": [
    "sunflower=pd.read_csv(\"C:\\\\Users\\\\Raksh\\\\OneDrive\\\\Documents\\\\RVU\\\\RUDRA\\\\sunflower.csv\")\n",
    "sunflower\n",
    "max50=sunflower[\"Yield\"].max()\n",
    "min50=sunflower[\"Yield\"].min()\n",
    "range50=max50-min50\n",
    "range50"
   ]
  },
  {
   "cell_type": "code",
   "execution_count": 142,
   "id": "5080f22f",
   "metadata": {},
   "outputs": [
    {
     "data": {
      "text/plain": [
       "99.32727273"
      ]
     },
     "execution_count": 142,
     "metadata": {},
     "output_type": "execute_result"
    }
   ],
   "source": [
    "sweet_potato=pd.read_csv(\"C:\\\\Users\\\\Raksh\\\\OneDrive\\\\Documents\\\\RVU\\\\RUDRA\\\\sweet potato.csv\")\n",
    "sweet_potato\n",
    "max51=sweet_potato[\"Yield\"].max()\n",
    "min51=sweet_potato[\"Yield\"].min()\n",
    "range51=max51-min51\n",
    "range51"
   ]
  },
  {
   "cell_type": "code",
   "execution_count": 143,
   "id": "842a0ea0",
   "metadata": {},
   "outputs": [
    {
     "data": {
      "text/plain": [
       "73.38818737"
      ]
     },
     "execution_count": 143,
     "metadata": {},
     "output_type": "execute_result"
    }
   ],
   "source": [
    "tapioca=pd.read_csv(\"C:\\\\Users\\\\Raksh\\\\OneDrive\\\\Documents\\\\RVU\\\\RUDRA\\\\tapioca.csv\")\n",
    "tapioca\n",
    "max52=tapioca[\"Yield\"].max()\n",
    "min52=tapioca[\"Yield\"].min()\n",
    "range52=max52-min52\n",
    "range52"
   ]
  },
  {
   "cell_type": "code",
   "execution_count": 144,
   "id": "bb1b577a",
   "metadata": {},
   "outputs": [
    {
     "data": {
      "text/plain": [
       "40.0"
      ]
     },
     "execution_count": 144,
     "metadata": {},
     "output_type": "execute_result"
    }
   ],
   "source": [
    "tobacco=pd.read_csv(\"C:\\\\Users\\\\Raksh\\\\OneDrive\\\\Documents\\\\RVU\\\\RUDRA\\\\tobacco.csv\")\n",
    "tobacco\n",
    "max53=tobacco[\"Yield\"].max()\n",
    "min53=tobacco[\"Yield\"].min()\n",
    "range53=max53-min53\n",
    "range53"
   ]
  },
  {
   "cell_type": "code",
   "execution_count": 129,
   "id": "ff9052f7",
   "metadata": {},
   "outputs": [
    {
     "data": {
      "text/plain": [
       "10.0"
      ]
     },
     "execution_count": 129,
     "metadata": {},
     "output_type": "execute_result"
    }
   ],
   "source": [
    "urad=pd.read_csv(\"C:\\\\Users\\\\Raksh\\\\OneDrive\\\\Documents\\\\RVU\\\\RUDRA\\\\urad.csv\")\n",
    "urad\n",
    "max54=urad[\"Yield\"].max()\n",
    "min54=urad[\"Yield\"].min()\n",
    "range54=max54-min54\n",
    "range54"
   ]
  },
  {
   "cell_type": "code",
   "execution_count": 145,
   "id": "e608e513",
   "metadata": {},
   "outputs": [
    {
     "data": {
      "text/plain": [
       "7.461538462"
      ]
     },
     "execution_count": 145,
     "metadata": {},
     "output_type": "execute_result"
    }
   ],
   "source": [
    "wheat=pd.read_csv(\"C:\\\\Users\\\\Raksh\\\\OneDrive\\\\Documents\\\\RVU\\\\RUDRA\\\\wheat.csv\")\n",
    "wheat\n",
    "max55=wheat[\"Yield\"].max()\n",
    "min55=wheat[\"Yield\"].min()\n",
    "range55=max55-min55\n",
    "range55"
   ]
  },
  {
   "cell_type": "code",
   "execution_count": 146,
   "id": "94e2aee6",
   "metadata": {},
   "outputs": [
    {
     "data": {
      "text/plain": [
       "964.8"
      ]
     },
     "execution_count": 146,
     "metadata": {},
     "output_type": "execute_result"
    }
   ],
   "source": [
    "turmeric=pd.read_csv(\"C:\\\\Users\\\\Raksh\\\\OneDrive\\\\Documents\\\\RVU\\\\RUDRA\\\\turmeric.csv\")\n",
    "turmeric\n",
    "max56=turmeric[\"Yield\"].max()\n",
    "min56=turmeric[\"Yield\"].min()\n",
    "range56=max56-min56\n",
    "range56"
   ]
  },
  {
   "cell_type": "code",
   "execution_count": null,
   "id": "80a4be1d",
   "metadata": {},
   "outputs": [],
   "source": []
  }
 ],
 "metadata": {
  "kernelspec": {
   "display_name": "Python 3 (ipykernel)",
   "language": "python",
   "name": "python3"
  },
  "language_info": {
   "codemirror_mode": {
    "name": "ipython",
    "version": 3
   },
   "file_extension": ".py",
   "mimetype": "text/x-python",
   "name": "python",
   "nbconvert_exporter": "python",
   "pygments_lexer": "ipython3",
   "version": "3.11.4"
  }
 },
 "nbformat": 4,
 "nbformat_minor": 5
}
